{
  "nbformat": 4,
  "nbformat_minor": 0,
  "metadata": {
    "colab": {
      "provenance": [],
      "include_colab_link": true
    },
    "kernelspec": {
      "name": "python3",
      "display_name": "Python 3"
    },
    "language_info": {
      "name": "python"
    }
  },
  "cells": [
    {
      "cell_type": "markdown",
      "metadata": {
        "id": "view-in-github",
        "colab_type": "text"
      },
      "source": [
        "<a href=\"https://colab.research.google.com/github/DasBytes/codes_ig/blob/main/Copy_of_Basic_Python_Sec_1.ipynb\" target=\"_parent\"><img src=\"https://colab.research.google.com/assets/colab-badge.svg\" alt=\"Open In Colab\"/></a>"
      ]
    },
    {
      "cell_type": "markdown",
      "source": [
        "# Python Basics"
      ],
      "metadata": {
        "id": "FuFiYIYnZyyl"
      }
    },
    {
      "cell_type": "code",
      "source": [
        "for i in range(100, 111):\n",
        "  print(i)\n",
        "\n"
      ],
      "metadata": {
        "id": "S5iFHrLRda0q",
        "outputId": "6ef2e8b9-7b24-416f-fcfc-559bdb0d1cf2",
        "colab": {
          "base_uri": "https://localhost:8080/"
        }
      },
      "execution_count": null,
      "outputs": [
        {
          "output_type": "stream",
          "name": "stdout",
          "text": [
            "100\n",
            "101\n",
            "102\n",
            "103\n",
            "104\n",
            "105\n",
            "106\n",
            "107\n",
            "108\n",
            "109\n",
            "110\n"
          ]
        }
      ]
    },
    {
      "cell_type": "code",
      "source": [
        "for i in range(10, 0, -1):\n",
        "  print(i)"
      ],
      "metadata": {
        "id": "2u-VtqIaf-ia",
        "outputId": "d1c23c49-a212-4edd-f89d-dfaf501b119c",
        "colab": {
          "base_uri": "https://localhost:8080/"
        }
      },
      "execution_count": null,
      "outputs": [
        {
          "output_type": "stream",
          "name": "stdout",
          "text": [
            "10\n",
            "9\n",
            "8\n",
            "7\n",
            "6\n",
            "5\n",
            "4\n",
            "3\n",
            "2\n",
            "1\n"
          ]
        }
      ]
    },
    {
      "cell_type": "code",
      "source": [
        "for i in range( 11):\n",
        "  print(i)\n"
      ],
      "metadata": {
        "id": "1Hd16E3agRF7",
        "outputId": "97b32489-7000-4ce6-c199-fadf6c376198",
        "colab": {
          "base_uri": "https://localhost:8080/"
        }
      },
      "execution_count": null,
      "outputs": [
        {
          "output_type": "stream",
          "name": "stdout",
          "text": [
            "0\n",
            "1\n",
            "2\n",
            "3\n",
            "4\n",
            "5\n",
            "6\n",
            "7\n",
            "8\n",
            "9\n",
            "10\n"
          ]
        }
      ]
    },
    {
      "cell_type": "code",
      "source": [
        "for i in range(10,31,3):\n",
        "  print(i)"
      ],
      "metadata": {
        "id": "peVVxKtwgqZT",
        "outputId": "b5cf5cf1-959d-4891-c022-fb6abdfb64b5",
        "colab": {
          "base_uri": "https://localhost:8080/"
        }
      },
      "execution_count": null,
      "outputs": [
        {
          "output_type": "stream",
          "name": "stdout",
          "text": [
            "10\n",
            "13\n",
            "16\n",
            "19\n",
            "22\n",
            "25\n",
            "28\n"
          ]
        }
      ]
    },
    {
      "cell_type": "code",
      "source": [
        "for i in reversed(range(1,10)):\n",
        "  print(i)"
      ],
      "metadata": {
        "id": "EHPW2MQ1hAbM",
        "outputId": "7fc52456-69ce-4840-cfdd-8032ee11f57b",
        "colab": {
          "base_uri": "https://localhost:8080/"
        }
      },
      "execution_count": null,
      "outputs": [
        {
          "output_type": "stream",
          "name": "stdout",
          "text": [
            "9\n",
            "8\n",
            "7\n",
            "6\n",
            "5\n",
            "4\n",
            "3\n",
            "2\n",
            "1\n"
          ]
        }
      ]
    },
    {
      "cell_type": "code",
      "source": [
        "n= int(input(\"Enter number of rows: \"))\n",
        "\n",
        "for i in range(1, n+1):\n",
        "    print(\"*\" *i)"
      ],
      "metadata": {
        "id": "ZXpQ8Y0zhuqU",
        "outputId": "a077e8cc-0055-4ed9-a7c5-194aa4a3f88f",
        "colab": {
          "base_uri": "https://localhost:8080/"
        }
      },
      "execution_count": null,
      "outputs": [
        {
          "output_type": "stream",
          "name": "stdout",
          "text": [
            "Enter number of rows: 2\n",
            "*\n",
            "**\n"
          ]
        }
      ]
    },
    {
      "cell_type": "code",
      "source": [
        "n= int(input(\"Enter number of rows: \"))\n",
        "\n",
        "for i in range(1,n+1):\n",
        "    print(\"*\"*i)\n",
        "for i in reversed(range(1,n)):\n",
        "    print(\"*\"*i)"
      ],
      "metadata": {
        "id": "um2-JqWXii0z",
        "outputId": "f885d84b-6233-4050-878e-0577e815ef0e",
        "colab": {
          "base_uri": "https://localhost:8080/"
        }
      },
      "execution_count": null,
      "outputs": [
        {
          "output_type": "stream",
          "name": "stdout",
          "text": [
            "Enter number of rows: 4\n",
            "*\n",
            "**\n",
            "***\n",
            "****\n",
            "***\n",
            "**\n",
            "*\n"
          ]
        }
      ]
    },
    {
      "cell_type": "code",
      "source": [
        "n= int(input(\"Enter number of rows: \"))\n",
        "\n",
        "for i in range(1,n+1):\n",
        "    print(\"1\"*i)"
      ],
      "metadata": {
        "id": "ig-xOsYvkFDx",
        "outputId": "42fd440c-75c5-4e5b-8412-1c9953398a0d",
        "colab": {
          "base_uri": "https://localhost:8080/"
        }
      },
      "execution_count": null,
      "outputs": [
        {
          "output_type": "stream",
          "name": "stdout",
          "text": [
            "Enter number of rows: 4\n",
            "1\n",
            "11\n",
            "111\n",
            "1111\n"
          ]
        }
      ]
    },
    {
      "cell_type": "code",
      "source": [
        "n= int(input(\"Enter number of rows: \"))\n",
        "\n",
        "for i in range (1,n+1):\n",
        "  for j in range(1,i+1):\n",
        "    print(j, end=\" \")\n",
        "  print(\"\")"
      ],
      "metadata": {
        "id": "ebwH7LCUkpKx",
        "outputId": "2e05dce5-8c20-4706-bb84-31d43fd2e1d7",
        "colab": {
          "base_uri": "https://localhost:8080/"
        }
      },
      "execution_count": null,
      "outputs": [
        {
          "output_type": "stream",
          "name": "stdout",
          "text": [
            "Enter number of rows: 5\n",
            "1 \n",
            "1 2 \n",
            "1 2 3 \n",
            "1 2 3 4 \n",
            "1 2 3 4 5 \n"
          ]
        }
      ]
    },
    {
      "cell_type": "markdown",
      "source": [],
      "metadata": {
        "id": "JL3tFKUEdbmp"
      }
    },
    {
      "cell_type": "code",
      "source": [],
      "metadata": {
        "id": "OodqFrAompOK"
      },
      "execution_count": null,
      "outputs": []
    },
    {
      "cell_type": "markdown",
      "source": [],
      "metadata": {
        "id": "4kXsEpWCeM7S"
      }
    },
    {
      "cell_type": "markdown",
      "source": [
        "## Lab 1: I/O, Datatypes, If-else"
      ],
      "metadata": {
        "id": "k9eMegkiaaX1"
      }
    },
    {
      "cell_type": "code",
      "execution_count": null,
      "metadata": {
        "colab": {
          "base_uri": "https://localhost:8080/"
        },
        "id": "WJMi5VCCZNjf",
        "outputId": "cf3fc6b8-94c4-4529-f994-9f725a2218b8"
      },
      "outputs": [
        {
          "output_type": "stream",
          "name": "stdout",
          "text": [
            "Hello world\n"
          ]
        }
      ],
      "source": [
        "print(\"Hello world\")"
      ]
    },
    {
      "cell_type": "code",
      "source": [
        "x = 1\n",
        "\n",
        "type(x)"
      ],
      "metadata": {
        "colab": {
          "base_uri": "https://localhost:8080/"
        },
        "id": "Y0AzUxXQbbnL",
        "outputId": "ed1e0c4e-07fd-4c3b-c63f-fc080c025f3f"
      },
      "execution_count": null,
      "outputs": [
        {
          "output_type": "execute_result",
          "data": {
            "text/plain": [
              "int"
            ]
          },
          "metadata": {},
          "execution_count": 4
        }
      ]
    },
    {
      "cell_type": "code",
      "source": [
        "x = 10.5\n",
        "\n",
        "type(x)"
      ],
      "metadata": {
        "colab": {
          "base_uri": "https://localhost:8080/"
        },
        "id": "sByXI1kRcBxL",
        "outputId": "caeea793-3a34-4753-cff9-e44484a3a1bb"
      },
      "execution_count": null,
      "outputs": [
        {
          "output_type": "execute_result",
          "data": {
            "text/plain": [
              "float"
            ]
          },
          "metadata": {},
          "execution_count": 5
        }
      ]
    },
    {
      "cell_type": "code",
      "source": [
        "x = \"string\"\n",
        "\n",
        "type(x)"
      ],
      "metadata": {
        "colab": {
          "base_uri": "https://localhost:8080/"
        },
        "id": "F7e11H0GcFBS",
        "outputId": "a5aecfdd-c002-4d0a-9131-3dd07bc19221"
      },
      "execution_count": null,
      "outputs": [
        {
          "output_type": "execute_result",
          "data": {
            "text/plain": [
              "str"
            ]
          },
          "metadata": {},
          "execution_count": 6
        }
      ]
    },
    {
      "cell_type": "code",
      "source": [
        "x, y = 1, 1.5\n",
        "\n",
        "print(\"X = {}, Y = {}\".format(x, y))"
      ],
      "metadata": {
        "colab": {
          "base_uri": "https://localhost:8080/"
        },
        "id": "BJ2dRVFacWQE",
        "outputId": "6d89c1d6-7216-463d-d67e-16b618df1e04"
      },
      "execution_count": null,
      "outputs": [
        {
          "output_type": "stream",
          "name": "stdout",
          "text": [
            "X = 1, Y = 1.5\n"
          ]
        }
      ]
    },
    {
      "cell_type": "code",
      "source": [
        "print(f\"X = {x}, Y = {y}\")"
      ],
      "metadata": {
        "colab": {
          "base_uri": "https://localhost:8080/"
        },
        "id": "-WV9qx4EdADJ",
        "outputId": "9dbc49fa-29b1-49f0-dd36-7028f8cbc755"
      },
      "execution_count": null,
      "outputs": [
        {
          "output_type": "stream",
          "name": "stdout",
          "text": [
            "X = 1, Y = 1.5\n"
          ]
        }
      ]
    },
    {
      "cell_type": "code",
      "source": [
        "print(\"X = \" + str(x) + \", Y = \" + str(y))"
      ],
      "metadata": {
        "colab": {
          "base_uri": "https://localhost:8080/"
        },
        "id": "xXEdTvh_dXyJ",
        "outputId": "7b645adf-186c-436d-9392-32e2f11f06f9"
      },
      "execution_count": null,
      "outputs": [
        {
          "output_type": "stream",
          "name": "stdout",
          "text": [
            "X = 1, Y = 1.5\n"
          ]
        }
      ]
    },
    {
      "cell_type": "code",
      "source": [
        "x = input(\"Enter a integer value: \")\n",
        "\n",
        "print(type(x))"
      ],
      "metadata": {
        "colab": {
          "base_uri": "https://localhost:8080/"
        },
        "id": "awnUeYJld4vw",
        "outputId": "5377a2a2-13af-44f5-8672-7b7eeee8f658"
      },
      "execution_count": null,
      "outputs": [
        {
          "output_type": "stream",
          "name": "stdout",
          "text": [
            "Enter a integer value: 5\n",
            "<class 'str'>\n"
          ]
        }
      ]
    },
    {
      "cell_type": "code",
      "source": [
        "x = int(input(\"Enter a integer value: \"))\n",
        "\n",
        "print(type(x))"
      ],
      "metadata": {
        "colab": {
          "base_uri": "https://localhost:8080/"
        },
        "id": "LlbhFG-zfk7w",
        "outputId": "c3fe48b5-0a2a-4d8d-e782-c7faeca60098"
      },
      "execution_count": null,
      "outputs": [
        {
          "output_type": "stream",
          "name": "stdout",
          "text": [
            "Enter a integer value: 5\n",
            "<class 'int'>\n"
          ]
        }
      ]
    },
    {
      "cell_type": "code",
      "source": [
        "x, y, z = 1, 1.5, \"t\"\n",
        "type(x), type(y), type(z)"
      ],
      "metadata": {
        "colab": {
          "base_uri": "https://localhost:8080/"
        },
        "id": "-6gZ2haKgBdP",
        "outputId": "a5140fe5-9c0d-4a0c-e76d-a55710b73350"
      },
      "execution_count": null,
      "outputs": [
        {
          "output_type": "execute_result",
          "data": {
            "text/plain": [
              "(int, float, str)"
            ]
          },
          "metadata": {},
          "execution_count": 15
        }
      ]
    },
    {
      "cell_type": "code",
      "source": [
        "x = int(input(\"Enter an integer: \"))\n",
        "\n",
        "if x%2 == 0:\n",
        "  print(f\"{x} is an even number\")\n",
        "else:\n",
        "  print(f\"{x} is an odd number\")"
      ],
      "metadata": {
        "colab": {
          "base_uri": "https://localhost:8080/"
        },
        "id": "hMJFtEuzgkIW",
        "outputId": "2cc87480-a80c-40a7-8a19-fdd516e4b987"
      },
      "execution_count": null,
      "outputs": [
        {
          "output_type": "stream",
          "name": "stdout",
          "text": [
            "Enter an integer: 10\n",
            "10 is an even number\n"
          ]
        }
      ]
    },
    {
      "cell_type": "code",
      "source": [
        "x = int(input(\"Enter your mark in CSE 328: \"))\n",
        "\n",
        "if x >= 93:\n",
        "  print(\"You have got an A\")\n",
        "elif x<93 and x>=89:\n",
        "  print(\"You have got an A-\")\n",
        "elif x<89 and x>=85:\n",
        "  print(\"You have got a B+\")\n",
        "else:\n",
        "  print(\"You have failed\")\n",
        "\n",
        "# you have completed today's lab"
      ],
      "metadata": {
        "colab": {
          "base_uri": "https://localhost:8080/"
        },
        "id": "xnLDlMoViboG",
        "outputId": "a1616c46-124f-438c-ac3a-54ad1f6686db"
      },
      "execution_count": null,
      "outputs": [
        {
          "output_type": "stream",
          "name": "stdout",
          "text": [
            "Enter your mark in CSE 328: 86\n",
            "You have got a B+\n"
          ]
        }
      ]
    },
    {
      "cell_type": "code",
      "source": [],
      "metadata": {
        "id": "EAAGkOeGjOnt"
      },
      "execution_count": null,
      "outputs": []
    }
  ]
}