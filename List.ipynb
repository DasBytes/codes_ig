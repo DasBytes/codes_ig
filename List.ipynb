{
  "nbformat": 4,
  "nbformat_minor": 0,
  "metadata": {
    "colab": {
      "provenance": [],
      "authorship_tag": "ABX9TyPGaUiNMGbqYxKdZexZtQrU",
      "include_colab_link": true
    },
    "kernelspec": {
      "name": "python3",
      "display_name": "Python 3"
    },
    "language_info": {
      "name": "python"
    }
  },
  "cells": [
    {
      "cell_type": "markdown",
      "metadata": {
        "id": "view-in-github",
        "colab_type": "text"
      },
      "source": [
        "<a href=\"https://colab.research.google.com/github/DasBytes/codes_ig/blob/main/List.ipynb\" target=\"_parent\"><img src=\"https://colab.research.google.com/assets/colab-badge.svg\" alt=\"Open In Colab\"/></a>"
      ]
    },
    {
      "cell_type": "markdown",
      "source": [
        "# List\n"
      ],
      "metadata": {
        "id": "Smw4DlUEl2Ne"
      }
    },
    {
      "cell_type": "markdown",
      "source": [],
      "metadata": {
        "id": "5HAs6UBjnAzy"
      }
    },
    {
      "cell_type": "code",
      "source": [
        "fruit_list=['apple', 'banana', 'jackfruit']\n",
        "print(fruit_list)"
      ],
      "metadata": {
        "colab": {
          "base_uri": "https://localhost:8080/"
        },
        "id": "sLnyVqtTl5mO",
        "outputId": "53c512a8-ee11-4605-9138-a7367505799c"
      },
      "execution_count": null,
      "outputs": [
        {
          "output_type": "stream",
          "name": "stdout",
          "text": [
            "['apple', 'banana', 'jackfruit']\n"
          ]
        }
      ]
    },
    {
      "cell_type": "markdown",
      "source": [],
      "metadata": {
        "id": "EApUTyHSlv-C"
      }
    },
    {
      "cell_type": "code",
      "source": [
        "mix_list=[1, 1.4, 'jackfruit']\n",
        "print(mix_list)"
      ],
      "metadata": {
        "colab": {
          "base_uri": "https://localhost:8080/"
        },
        "id": "VgMIdvpClweg",
        "outputId": "5cfcec78-528e-428e-996c-501c5f126648"
      },
      "execution_count": null,
      "outputs": [
        {
          "output_type": "stream",
          "name": "stdout",
          "text": [
            "[1, 1.4, 'jackfruit']\n"
          ]
        }
      ]
    },
    {
      "cell_type": "markdown",
      "source": [
        "## Regular Indexing\n"
      ],
      "metadata": {
        "id": "LJE9sYi0nI52"
      }
    },
    {
      "cell_type": "code",
      "source": [
        "print(fruit_list[0])"
      ],
      "metadata": {
        "colab": {
          "base_uri": "https://localhost:8080/"
        },
        "id": "7kOB4FRPnMeN",
        "outputId": "683a39dc-6488-4617-a9ae-3a58c4bc4220"
      },
      "execution_count": null,
      "outputs": [
        {
          "output_type": "stream",
          "name": "stdout",
          "text": [
            "apple\n"
          ]
        }
      ]
    },
    {
      "cell_type": "code",
      "source": [
        "fruit_list[0]='Orange'\n",
        "print(fruit_list[0])"
      ],
      "metadata": {
        "colab": {
          "base_uri": "https://localhost:8080/"
        },
        "id": "iKiv6ugFnnDK",
        "outputId": "6decf14b-c71e-44aa-cb80-1702ad002c37"
      },
      "execution_count": null,
      "outputs": [
        {
          "output_type": "stream",
          "name": "stdout",
          "text": [
            "Orange\n"
          ]
        }
      ]
    },
    {
      "cell_type": "markdown",
      "source": [
        "## Negative indexing"
      ],
      "metadata": {
        "id": "y_qUCjKJn3-G"
      }
    },
    {
      "cell_type": "code",
      "source": [
        "print(fruit_list[-1])"
      ],
      "metadata": {
        "colab": {
          "base_uri": "https://localhost:8080/",
          "height": 141
        },
        "id": "o0ip6uAVn81v",
        "outputId": "3bd9f425-d362-4fb7-91ad-0597a81efb12"
      },
      "execution_count": null,
      "outputs": [
        {
          "output_type": "error",
          "ename": "NameError",
          "evalue": "name 'fruit_list' is not defined",
          "traceback": [
            "\u001b[0;31m---------------------------------------------------------------------------\u001b[0m",
            "\u001b[0;31mNameError\u001b[0m                                 Traceback (most recent call last)",
            "\u001b[0;32m/tmp/ipython-input-5-109649916.py\u001b[0m in \u001b[0;36m<cell line: 0>\u001b[0;34m()\u001b[0m\n\u001b[0;32m----> 1\u001b[0;31m \u001b[0mprint\u001b[0m\u001b[0;34m(\u001b[0m\u001b[0mfruit_list\u001b[0m\u001b[0;34m[\u001b[0m\u001b[0;34m-\u001b[0m\u001b[0;36m1\u001b[0m\u001b[0;34m]\u001b[0m\u001b[0;34m)\u001b[0m\u001b[0;34m\u001b[0m\u001b[0;34m\u001b[0m\u001b[0m\n\u001b[0m",
            "\u001b[0;31mNameError\u001b[0m: name 'fruit_list' is not defined"
          ]
        }
      ]
    },
    {
      "cell_type": "code",
      "source": [
        "fruit_list[-1]='mango'\n",
        "print(fruit_list[-1])"
      ],
      "metadata": {
        "colab": {
          "base_uri": "https://localhost:8080/"
        },
        "id": "zFSb3C0foU1K",
        "outputId": "185de926-5741-482d-8d35-d20fdce3b16b"
      },
      "execution_count": null,
      "outputs": [
        {
          "output_type": "stream",
          "name": "stdout",
          "text": [
            "mango\n"
          ]
        }
      ]
    },
    {
      "cell_type": "markdown",
      "source": [
        "## List Function: `append`"
      ],
      "metadata": {
        "id": "ZqW4PGFIo0xE"
      }
    },
    {
      "cell_type": "code",
      "source": [
        "\n",
        "fruit_list.append('pineapple')\n",
        "print(fruit_list)"
      ],
      "metadata": {
        "colab": {
          "base_uri": "https://localhost:8080/"
        },
        "id": "6AvRoO9Ao8qn",
        "outputId": "ea40cf6a-0dfe-48eb-e688-6c4610311dad"
      },
      "execution_count": null,
      "outputs": [
        {
          "output_type": "stream",
          "name": "stdout",
          "text": [
            "['Orange', 'banana', 'mango', 'pineapple', 'pineapple']\n"
          ]
        }
      ]
    },
    {
      "cell_type": "code",
      "source": [
        "games =[]\n",
        "n=int(input('Number of games: '))\n",
        "for i in range(n):\n",
        "  game= input(f' Game #{i+1}: ')\n",
        "  games.append(game)\n",
        "print(games)"
      ],
      "metadata": {
        "colab": {
          "base_uri": "https://localhost:8080/"
        },
        "id": "bwWV_TMDpd_O",
        "outputId": "03a34e9b-cfcc-4d35-9bd0-d9c379956770"
      },
      "execution_count": null,
      "outputs": [
        {
          "output_type": "stream",
          "name": "stdout",
          "text": [
            "Number of games: 3\n",
            " Game #1: aaa\n",
            " Game #2: aaaa\n",
            " Game #3: aaaaaa\n",
            "['aaa', 'aaaa', 'aaaaaa']\n"
          ]
        }
      ]
    },
    {
      "cell_type": "markdown",
      "source": [
        "# List Function: `remove`"
      ],
      "metadata": {
        "id": "iaIxnBilrAZ4"
      }
    },
    {
      "cell_type": "code",
      "source": [
        "games.remove('aaa')\n",
        "print(games)"
      ],
      "metadata": {
        "colab": {
          "base_uri": "https://localhost:8080/"
        },
        "id": "xrz6MWtFrFE2",
        "outputId": "01fa81d0-a076-4b86-cd51-9da72d3433f5"
      },
      "execution_count": null,
      "outputs": [
        {
          "output_type": "stream",
          "name": "stdout",
          "text": [
            "['aaaa', 'aaaaaa']\n"
          ]
        }
      ]
    },
    {
      "cell_type": "markdown",
      "source": [
        "# list function: `insert`\n"
      ],
      "metadata": {
        "id": "rcbO0AbqrcsH"
      }
    },
    {
      "cell_type": "code",
      "source": [
        "print(fruit_list)"
      ],
      "metadata": {
        "colab": {
          "base_uri": "https://localhost:8080/"
        },
        "id": "AzRaZGd-rhiy",
        "outputId": "40daabaf-3a82-4cc5-c661-1464b6fc594a"
      },
      "execution_count": null,
      "outputs": [
        {
          "output_type": "stream",
          "name": "stdout",
          "text": [
            "['Orange', 'banana', 'mango', 'pineapple', 'pineapple']\n"
          ]
        }
      ]
    },
    {
      "cell_type": "code",
      "source": [
        "fruit_list.insert(3, 'lichi')\n",
        "print(fruit_list)"
      ],
      "metadata": {
        "colab": {
          "base_uri": "https://localhost:8080/"
        },
        "id": "PEEY6azjru9W",
        "outputId": "619b5c4f-d980-46d6-daa1-89238f225e81"
      },
      "execution_count": null,
      "outputs": [
        {
          "output_type": "stream",
          "name": "stdout",
          "text": [
            "['Orange', 'banana', 'mango', 'lichi', 'pineapple', 'pineapple']\n"
          ]
        }
      ]
    },
    {
      "cell_type": "markdown",
      "source": [],
      "metadata": {
        "id": "-J8OMnXAsR8O"
      }
    },
    {
      "cell_type": "markdown",
      "source": [
        "## length of a list"
      ],
      "metadata": {
        "id": "pXDxHkm9sTiG"
      }
    },
    {
      "cell_type": "code",
      "source": [
        "len(fruit_list)"
      ],
      "metadata": {
        "colab": {
          "base_uri": "https://localhost:8080/"
        },
        "id": "3M7LtMJOsadl",
        "outputId": "9e0db6ce-a5a3-401b-beb0-e065bdc65fa8"
      },
      "execution_count": null,
      "outputs": [
        {
          "output_type": "execute_result",
          "data": {
            "text/plain": [
              "6"
            ]
          },
          "metadata": {},
          "execution_count": 20
        }
      ]
    },
    {
      "cell_type": "markdown",
      "source": [
        "## List concatenation\n"
      ],
      "metadata": {
        "id": "5rXtAf8Asf2f"
      }
    },
    {
      "cell_type": "code",
      "source": [
        "print(fruit_list)\n",
        "print(mix_list)\n",
        "print(games)"
      ],
      "metadata": {
        "colab": {
          "base_uri": "https://localhost:8080/"
        },
        "id": "72Ez0dSJsm2e",
        "outputId": "7b089b85-7840-4605-ed69-f0a4d608ca07"
      },
      "execution_count": null,
      "outputs": [
        {
          "output_type": "stream",
          "name": "stdout",
          "text": [
            "['Orange', 'banana', 'mango', 'lichi', 'pineapple', 'pineapple']\n",
            "[1, 1.4, 'jackfruit']\n",
            "['aaaa', 'aaaaaa']\n"
          ]
        }
      ]
    },
    {
      "cell_type": "code",
      "source": [
        "all_list=fruit_list+mix_list+games\n",
        "print(all_list)"
      ],
      "metadata": {
        "colab": {
          "base_uri": "https://localhost:8080/"
        },
        "id": "uIKc7FrTsz4u",
        "outputId": "18da096a-0457-41f5-e53a-540725cacc8c"
      },
      "execution_count": null,
      "outputs": [
        {
          "output_type": "stream",
          "name": "stdout",
          "text": [
            "['Orange', 'banana', 'mango', 'lichi', 'pineapple', 'pineapple', 1, 1.4, 'jackfruit', 'aaaa', 'aaaaaa']\n"
          ]
        }
      ]
    },
    {
      "cell_type": "markdown",
      "source": [],
      "metadata": {
        "id": "avpHCKcGtZsG"
      }
    },
    {
      "cell_type": "markdown",
      "source": [
        "## List sorting"
      ],
      "metadata": {
        "id": "xGbreX4nta51"
      }
    },
    {
      "cell_type": "code",
      "source": [
        "number_list=[5,1,0,9,6,10]\n",
        "number_list.sort()\n",
        "print(number_list)"
      ],
      "metadata": {
        "colab": {
          "base_uri": "https://localhost:8080/"
        },
        "id": "VXT5VMhRteMd",
        "outputId": "22d0797f-bde1-4a19-cbed-60ba852dc8b0"
      },
      "execution_count": null,
      "outputs": [
        {
          "output_type": "stream",
          "name": "stdout",
          "text": [
            "[0, 1, 5, 6, 9, 10]\n"
          ]
        }
      ]
    },
    {
      "cell_type": "code",
      "source": [
        "number_list=[5,1,0,9,6,10]\n",
        "number_list.sort(reverse=True)\n",
        "print(number_list)"
      ],
      "metadata": {
        "colab": {
          "base_uri": "https://localhost:8080/"
        },
        "id": "5UK4C8pEtqje",
        "outputId": "df2c1056-789d-4456-ba90-f172c9ae4bf6"
      },
      "execution_count": null,
      "outputs": [
        {
          "output_type": "stream",
          "name": "stdout",
          "text": [
            "[10, 9, 6, 5, 1, 0]\n"
          ]
        }
      ]
    },
    {
      "cell_type": "markdown",
      "source": [
        "## List Slicing\n"
      ],
      "metadata": {
        "id": "7KsEsgWcuHQW"
      }
    },
    {
      "cell_type": "code",
      "source": [
        "print(number_list)"
      ],
      "metadata": {
        "colab": {
          "base_uri": "https://localhost:8080/"
        },
        "id": "BR2FazRfuK4u",
        "outputId": "48928301-cddd-4bb4-f74d-fb6679442ee7"
      },
      "execution_count": null,
      "outputs": [
        {
          "output_type": "stream",
          "name": "stdout",
          "text": [
            "[10, 9, 6, 5, 1, 0]\n"
          ]
        }
      ]
    },
    {
      "cell_type": "code",
      "source": [
        "len(number_list)"
      ],
      "metadata": {
        "colab": {
          "base_uri": "https://localhost:8080/"
        },
        "id": "7v3KCLcPuVK9",
        "outputId": "3a1b4fd7-74e5-4cb9-dddd-85272ea5dc77"
      },
      "execution_count": null,
      "outputs": [
        {
          "output_type": "execute_result",
          "data": {
            "text/plain": [
              "6"
            ]
          },
          "metadata": {},
          "execution_count": 27
        }
      ]
    },
    {
      "cell_type": "code",
      "source": [
        "number_list[1:4]"
      ],
      "metadata": {
        "colab": {
          "base_uri": "https://localhost:8080/"
        },
        "id": "miWB4CJ6ulcG",
        "outputId": "fc93edee-01b1-416a-f54e-37428a8c7391"
      },
      "execution_count": null,
      "outputs": [
        {
          "output_type": "execute_result",
          "data": {
            "text/plain": [
              "[9, 6, 5]"
            ]
          },
          "metadata": {},
          "execution_count": 28
        }
      ]
    },
    {
      "cell_type": "code",
      "source": [
        "number_list[1:6:2]"
      ],
      "metadata": {
        "colab": {
          "base_uri": "https://localhost:8080/"
        },
        "id": "GsCPyqOuvD5W",
        "outputId": "1a071f96-a94a-4ff5-adad-131c227eac38"
      },
      "execution_count": null,
      "outputs": [
        {
          "output_type": "execute_result",
          "data": {
            "text/plain": [
              "[9, 5, 0]"
            ]
          },
          "metadata": {},
          "execution_count": 29
        }
      ]
    },
    {
      "cell_type": "markdown",
      "source": [
        "## problem 4: write a function to find sum and avg of a list"
      ],
      "metadata": {
        "id": "2obaceYHwS12"
      }
    },
    {
      "cell_type": "code",
      "source": [
        "number_list=[5,1,0,5,6,10]\n",
        "sum_of_list=sum(number_list)\n",
        "avg_of_list=sum_of_list/len(number_list)\n",
        "print(sum_of_list)\n",
        "print(avg_of_list)"
      ],
      "metadata": {
        "colab": {
          "base_uri": "https://localhost:8080/"
        },
        "id": "S68haH2swcJO",
        "outputId": "12a51136-7ed0-47ff-98b1-b42a10e155a0"
      },
      "execution_count": null,
      "outputs": [
        {
          "output_type": "stream",
          "name": "stdout",
          "text": [
            "27\n",
            "4.5\n"
          ]
        }
      ]
    },
    {
      "cell_type": "markdown",
      "source": [
        "## problem 5: write a python function that takes two lists and returns true if they have at least one common member"
      ],
      "metadata": {
        "id": "hcyrNgCwxFtN"
      }
    },
    {
      "cell_type": "code",
      "source": [
        "def find_common(list1, list2):\n",
        "  for i in list1:\n",
        "    if i in list2:\n",
        "      return True\n",
        "  return False\n",
        "\n",
        "  list1=[2,3,4]\n",
        "  list2=[5,6,7]\n",
        "\n",
        "  print(find_common(list1, list2))"
      ],
      "metadata": {
        "id": "fR7rgjNFxIg1"
      },
      "execution_count": null,
      "outputs": []
    },
    {
      "cell_type": "markdown",
      "source": [
        "## set\n"
      ],
      "metadata": {
        "id": "GYghr6bczvH_"
      }
    },
    {
      "cell_type": "code",
      "source": [
        "set1= {1,2,3,3}\n",
        "print(set1)"
      ],
      "metadata": {
        "colab": {
          "base_uri": "https://localhost:8080/"
        },
        "id": "phOUjDmx0NeA",
        "outputId": "5193f445-7fc0-4abc-eef5-3f0cc757f967"
      },
      "execution_count": null,
      "outputs": [
        {
          "output_type": "stream",
          "name": "stdout",
          "text": [
            "{1, 2, 3}\n"
          ]
        }
      ]
    },
    {
      "cell_type": "code",
      "source": [
        "set2={3,5,0}\n",
        "\n",
        "set3=set1.union(set2)\n",
        "print(set3)"
      ],
      "metadata": {
        "colab": {
          "base_uri": "https://localhost:8080/"
        },
        "id": "OV8BTJ2K0Wlv",
        "outputId": "8249228f-875f-410f-ef18-a5ee838d06e4"
      },
      "execution_count": null,
      "outputs": [
        {
          "output_type": "stream",
          "name": "stdout",
          "text": [
            "{0, 1, 2, 3, 5}\n"
          ]
        }
      ]
    },
    {
      "cell_type": "code",
      "source": [
        "set4=set1.intersection(set2)\n",
        "print(set4)"
      ],
      "metadata": {
        "colab": {
          "base_uri": "https://localhost:8080/"
        },
        "id": "Iaxva5Gy0lhW",
        "outputId": "1980a254-7c93-4a26-87d8-05931b9405e8"
      },
      "execution_count": null,
      "outputs": [
        {
          "output_type": "stream",
          "name": "stdout",
          "text": [
            "{3}\n"
          ]
        }
      ]
    },
    {
      "cell_type": "markdown",
      "source": [
        "## Tuple"
      ],
      "metadata": {
        "id": "S7k_KcWE0xr-"
      }
    },
    {
      "cell_type": "code",
      "source": [
        "tuple1=(1,2,3,1)\n",
        "print(tuple1)"
      ],
      "metadata": {
        "colab": {
          "base_uri": "https://localhost:8080/"
        },
        "id": "6H03_Cik00DZ",
        "outputId": "9df18296-bded-4e8f-af46-3f90008ede02"
      },
      "execution_count": null,
      "outputs": [
        {
          "output_type": "stream",
          "name": "stdout",
          "text": [
            "(1, 2, 3, 1)\n"
          ]
        }
      ]
    },
    {
      "cell_type": "code",
      "source": [
        "tuple1.count(1)"
      ],
      "metadata": {
        "colab": {
          "base_uri": "https://localhost:8080/"
        },
        "id": "YSsHyd1W1PKn",
        "outputId": "0d13f178-4d73-47c3-aa05-aaf70b67b2d5"
      },
      "execution_count": null,
      "outputs": [
        {
          "output_type": "execute_result",
          "data": {
            "text/plain": [
              "2"
            ]
          },
          "metadata": {},
          "execution_count": 60
        }
      ]
    },
    {
      "cell_type": "code",
      "source": [
        "tuple1.index(2)"
      ],
      "metadata": {
        "colab": {
          "base_uri": "https://localhost:8080/"
        },
        "id": "jJeh-n8G1V2H",
        "outputId": "55271e51-4ede-40e6-f92a-17a315e4aa77"
      },
      "execution_count": null,
      "outputs": [
        {
          "output_type": "execute_result",
          "data": {
            "text/plain": [
              "1"
            ]
          },
          "metadata": {},
          "execution_count": 62
        }
      ]
    },
    {
      "cell_type": "markdown",
      "source": [
        "#problem 1: convert the tuple into a list , add \"Orange\" , and convert it back into a tuple"
      ],
      "metadata": {
        "id": "B49Nv_BB12e2"
      }
    },
    {
      "cell_type": "code",
      "source": [
        "fruit_tuple=('apple', 'banana', 'jackfruit')\n",
        "converted_fruit_list=list(fruit_tuple)\n",
        "print(converted_fruit_list)"
      ],
      "metadata": {
        "colab": {
          "base_uri": "https://localhost:8080/"
        },
        "id": "6S4IpXdX2E2P",
        "outputId": "1c0a0ed0-1fcf-47bd-8e08-649c38522f89"
      },
      "execution_count": null,
      "outputs": [
        {
          "output_type": "stream",
          "name": "stdout",
          "text": [
            "['apple', 'banana', 'jackfruit']\n"
          ]
        }
      ]
    },
    {
      "cell_type": "code",
      "source": [
        "converted_fruit_list.append('orange')\n",
        "print(converted_fruit_list)"
      ],
      "metadata": {
        "colab": {
          "base_uri": "https://localhost:8080/"
        },
        "id": "6hGSHJ9E2RVW",
        "outputId": "95864836-16f4-4811-b5fc-fc97b79fd64d"
      },
      "execution_count": null,
      "outputs": [
        {
          "output_type": "stream",
          "name": "stdout",
          "text": [
            "['apple', 'banana', 'jackfruit', 'orange']\n"
          ]
        }
      ]
    },
    {
      "cell_type": "code",
      "source": [
        "converted_fruit_list = tuple(converted_fruit_list)\n",
        "print(converted_fruit_list)"
      ],
      "metadata": {
        "colab": {
          "base_uri": "https://localhost:8080/"
        },
        "id": "R6YUi4nZ2V0f",
        "outputId": "3dbf9355-09b2-4469-f118-3992ba571ba6"
      },
      "execution_count": null,
      "outputs": [
        {
          "output_type": "stream",
          "name": "stdout",
          "text": [
            "('apple', 'banana', 'jackfruit', 'orange')\n"
          ]
        }
      ]
    },
    {
      "cell_type": "code",
      "source": [
        "fruit_tuple=tuple(list(fruit_tuple)+ ['strawberry'])\n",
        "print(fruit_tuple)"
      ],
      "metadata": {
        "colab": {
          "base_uri": "https://localhost:8080/"
        },
        "id": "VAjpZlkT2vNg",
        "outputId": "76b81a8d-c315-459b-ce2e-89d071824410"
      },
      "execution_count": null,
      "outputs": [
        {
          "output_type": "stream",
          "name": "stdout",
          "text": [
            "('apple', 'banana', 'jackfruit', 'strawberry')\n"
          ]
        }
      ]
    },
    {
      "cell_type": "markdown",
      "source": [
        "# multi dimentional list\n",
        "# more set function\n",
        "# lab report : excercise"
      ],
      "metadata": {
        "id": "LHkLzSMH3gAO"
      }
    },
    {
      "cell_type": "markdown",
      "source": [
        "##Dictionary"
      ],
      "metadata": {
        "id": "habmZXzCnDVJ"
      }
    },
    {
      "cell_type": "code",
      "source": [
        "dics1= {\n",
        "    'name': 'Pranta Das',\n",
        "    'mail': '223012812@eastdelta.edu.bd',\n",
        "    'age': '23'\n",
        "}"
      ],
      "metadata": {
        "id": "VRscc9nvnJ0h"
      },
      "execution_count": null,
      "outputs": []
    },
    {
      "cell_type": "code",
      "source": [
        "print(dics1['name'])"
      ],
      "metadata": {
        "colab": {
          "base_uri": "https://localhost:8080/"
        },
        "id": "JbspsTmNnXRE",
        "outputId": "f8ec303b-e09a-4fde-e152-e8c30ac219b8"
      },
      "execution_count": null,
      "outputs": [
        {
          "output_type": "stream",
          "name": "stdout",
          "text": [
            "Pranta Das\n"
          ]
        }
      ]
    },
    {
      "cell_type": "code",
      "source": [
        "dics1.keys()"
      ],
      "metadata": {
        "colab": {
          "base_uri": "https://localhost:8080/"
        },
        "id": "rNQc_wLEncRy",
        "outputId": "f7e087be-67cf-4610-db54-9b277bf22701"
      },
      "execution_count": null,
      "outputs": [
        {
          "output_type": "execute_result",
          "data": {
            "text/plain": [
              "dict_keys(['name'])"
            ]
          },
          "metadata": {},
          "execution_count": 3
        }
      ]
    },
    {
      "cell_type": "code",
      "source": [
        "dics1.values()"
      ],
      "metadata": {
        "colab": {
          "base_uri": "https://localhost:8080/"
        },
        "id": "Xrd5XdKCnkkS",
        "outputId": "a5674290-9bc9-4ef1-dad0-af215d6c8eb4"
      },
      "execution_count": null,
      "outputs": [
        {
          "output_type": "execute_result",
          "data": {
            "text/plain": [
              "dict_values(['Pranta Das'])"
            ]
          },
          "metadata": {},
          "execution_count": 4
        }
      ]
    },
    {
      "cell_type": "code",
      "source": [
        "dics1['age']=22"
      ],
      "metadata": {
        "id": "PVkiHtzuoCti"
      },
      "execution_count": null,
      "outputs": []
    },
    {
      "cell_type": "code",
      "source": [
        "print(dics1['age'])"
      ],
      "metadata": {
        "colab": {
          "base_uri": "https://localhost:8080/"
        },
        "id": "cnhfJz69oHOh",
        "outputId": "856f9f19-175c-4974-a322-c3004913914b"
      },
      "execution_count": null,
      "outputs": [
        {
          "output_type": "stream",
          "name": "stdout",
          "text": [
            "22\n"
          ]
        }
      ]
    },
    {
      "cell_type": "code",
      "source": [
        "dics1['Hometown']='Chittagong'\n",
        "\n",
        "print(dics1)"
      ],
      "metadata": {
        "colab": {
          "base_uri": "https://localhost:8080/"
        },
        "id": "8V7fGk9WoVLi",
        "outputId": "f37a8b12-31ba-4eac-e114-e31aeb5c9998"
      },
      "execution_count": null,
      "outputs": [
        {
          "output_type": "stream",
          "name": "stdout",
          "text": [
            "{'name': 'Pranta Das', 'mail': '223012812@eastdelta.edu.bd', 'age': 22, 'Hometown': 'Chittagong'}\n"
          ]
        }
      ]
    },
    {
      "cell_type": "code",
      "source": [
        "dics1.popitem()\n",
        "\n",
        "dics1"
      ],
      "metadata": {
        "colab": {
          "base_uri": "https://localhost:8080/"
        },
        "id": "LoN4BtajovOC",
        "outputId": "6af0a4c7-2203-4108-a949-3ed37d903881"
      },
      "execution_count": null,
      "outputs": [
        {
          "output_type": "execute_result",
          "data": {
            "text/plain": [
              "{'name': 'Pranta Das', 'mail': '223012812@eastdelta.edu.bd'}"
            ]
          },
          "metadata": {},
          "execution_count": 12
        }
      ]
    },
    {
      "cell_type": "code",
      "source": [
        "dics1.pop('age')\n",
        "dics1"
      ],
      "metadata": {
        "colab": {
          "base_uri": "https://localhost:8080/"
        },
        "id": "n4mHUcVpo7lp",
        "outputId": "d4b769ee-d9e3-4e7f-a1cd-a12a03d51b79"
      },
      "execution_count": null,
      "outputs": [
        {
          "output_type": "execute_result",
          "data": {
            "text/plain": [
              "{'name': 'Pranta Das', 'mail': '223012812@eastdelta.edu.bd'}"
            ]
          },
          "metadata": {},
          "execution_count": 16
        }
      ]
    },
    {
      "cell_type": "code",
      "source": [
        "for i in dics1.keys():\n",
        "   print(i)"
      ],
      "metadata": {
        "colab": {
          "base_uri": "https://localhost:8080/"
        },
        "id": "c6h0byFWpNXj",
        "outputId": "21724670-0bc8-4716-db3d-296008d8020e"
      },
      "execution_count": null,
      "outputs": [
        {
          "output_type": "stream",
          "name": "stdout",
          "text": [
            "name\n",
            "mail\n"
          ]
        }
      ]
    },
    {
      "cell_type": "code",
      "source": [
        "for i in dics1.values():\n",
        "   print(i)"
      ],
      "metadata": {
        "colab": {
          "base_uri": "https://localhost:8080/"
        },
        "id": "8xb8vemOpd0x",
        "outputId": "bc07c5a2-0c25-4227-e171-d8c186045a76"
      },
      "execution_count": null,
      "outputs": [
        {
          "output_type": "stream",
          "name": "stdout",
          "text": [
            "Pranta Das\n",
            "223012812@eastdelta.edu.bd\n"
          ]
        }
      ]
    },
    {
      "cell_type": "code",
      "source": [
        "for i in dics1.items():\n",
        "   print(i)"
      ],
      "metadata": {
        "colab": {
          "base_uri": "https://localhost:8080/"
        },
        "id": "RgE_aY3mpsEK",
        "outputId": "d6b0de17-974f-4050-d205-8b004ec9f0c2"
      },
      "execution_count": null,
      "outputs": [
        {
          "output_type": "stream",
          "name": "stdout",
          "text": [
            "('name', 'Pranta Das')\n",
            "('mail', '223012812@eastdelta.edu.bd')\n"
          ]
        }
      ]
    },
    {
      "cell_type": "code",
      "source": [
        "for k,v in dics1.items():\n",
        "   print(f'{k} --> {v}')"
      ],
      "metadata": {
        "colab": {
          "base_uri": "https://localhost:8080/"
        },
        "id": "zVz7Mmovp7QR",
        "outputId": "f24feb1a-99d2-4771-a3de-9a3a062a9546"
      },
      "execution_count": null,
      "outputs": [
        {
          "output_type": "stream",
          "name": "stdout",
          "text": [
            "name --> Pranta Das\n",
            "mail --> 223012812@eastdelta.edu.bd\n"
          ]
        }
      ]
    },
    {
      "cell_type": "code",
      "source": [
        "dics2=dics1.copy()"
      ],
      "metadata": {
        "id": "4oDSsnwArGa7"
      },
      "execution_count": null,
      "outputs": []
    },
    {
      "cell_type": "code",
      "source": [
        "print(dics2)"
      ],
      "metadata": {
        "colab": {
          "base_uri": "https://localhost:8080/"
        },
        "id": "sHhP-tXJr5Qz",
        "outputId": "88abc7e5-fc0d-40de-ed34-c367550acb6f"
      },
      "execution_count": null,
      "outputs": [
        {
          "output_type": "stream",
          "name": "stdout",
          "text": [
            "{'name': 'Pranta Das', 'mail': '223012812@eastdelta.edu.bd'}\n"
          ]
        }
      ]
    },
    {
      "cell_type": "code",
      "source": [
        "dics1.clear()"
      ],
      "metadata": {
        "id": "fLyW9SslsCyY"
      },
      "execution_count": null,
      "outputs": []
    },
    {
      "cell_type": "code",
      "source": [
        "print(dics1)\n",
        "print(dics2)"
      ],
      "metadata": {
        "colab": {
          "base_uri": "https://localhost:8080/"
        },
        "id": "ZwWu4_nKsIqh",
        "outputId": "300a62b5-db7c-4056-e338-9fe3dd62a097"
      },
      "execution_count": null,
      "outputs": [
        {
          "output_type": "stream",
          "name": "stdout",
          "text": [
            "{}\n",
            "{'name': 'Pranta Das', 'mail': '223012812@eastdelta.edu.bd'}\n"
          ]
        }
      ]
    },
    {
      "cell_type": "code",
      "source": [
        "nes_dictionary= {\n",
        "    'P1': {\n",
        "        'name': 'A',\n",
        "        'age': 23\n",
        "    },\n",
        "       'P2': {\n",
        "        'name': 'B',\n",
        "        'age': 22\n",
        "    },\n",
        "\n",
        "       'P3': {\n",
        "        'name': 'C',\n",
        "        'age': 25\n",
        "    }\n",
        "}"
      ],
      "metadata": {
        "id": "pNcWXnIKskpB"
      },
      "execution_count": null,
      "outputs": []
    },
    {
      "cell_type": "code",
      "source": [
        "nes_dictionary['P1']"
      ],
      "metadata": {
        "colab": {
          "base_uri": "https://localhost:8080/"
        },
        "id": "jNgSUrbntsqB",
        "outputId": "cc8ff34f-a755-4d51-8934-5d5980e765f0"
      },
      "execution_count": null,
      "outputs": [
        {
          "output_type": "execute_result",
          "data": {
            "text/plain": [
              "{'name': 'A', 'age': 23}"
            ]
          },
          "metadata": {},
          "execution_count": 27
        }
      ]
    },
    {
      "cell_type": "code",
      "source": [
        "nes_dictionary['P1']['name']"
      ],
      "metadata": {
        "colab": {
          "base_uri": "https://localhost:8080/",
          "height": 35
        },
        "id": "H66NHYGWt_UA",
        "outputId": "b82de467-a584-4b21-9534-af5c33691bc2"
      },
      "execution_count": null,
      "outputs": [
        {
          "output_type": "execute_result",
          "data": {
            "text/plain": [
              "'A'"
            ],
            "application/vnd.google.colaboratory.intrinsic+json": {
              "type": "string"
            }
          },
          "metadata": {},
          "execution_count": 28
        }
      ]
    },
    {
      "cell_type": "code",
      "source": [
        "gender = {\n",
        "    'P1': True,\n",
        "    'P2': False,\n",
        "    'P3': False\n",
        "}"
      ],
      "metadata": {
        "id": "v7kzeLIkvwah"
      },
      "execution_count": null,
      "outputs": []
    },
    {
      "cell_type": "code",
      "source": [
        "for k,d in nes_dictionary.items():\n",
        "  print(f\"{k} --> \")\n",
        "  for k2,v in d.items():\n",
        "    print(f\"{k} --> {k2} -->> {v}\")"
      ],
      "metadata": {
        "colab": {
          "base_uri": "https://localhost:8080/"
        },
        "id": "H9IkFu7IwAWf",
        "outputId": "e3de2c33-1153-4fef-f1ea-504b76753e84"
      },
      "execution_count": null,
      "outputs": [
        {
          "output_type": "stream",
          "name": "stdout",
          "text": [
            "P1 --> \n",
            "P1 --> name -->> A\n",
            "P1 --> age -->> 23\n",
            "P2 --> \n",
            "P2 --> name -->> B\n",
            "P2 --> age -->> 22\n",
            "P3 --> \n",
            "P3 --> name -->> C\n",
            "P3 --> age -->> 25\n"
          ]
        }
      ]
    },
    {
      "cell_type": "markdown",
      "source": [
        "\n",
        "Write a Python script to check whether a given key already exists in a dictionary.\n"
      ],
      "metadata": {
        "id": "4AaNrp3oxPfg"
      }
    },
    {
      "cell_type": "code",
      "source": [
        "print('Hometown' in dics1.keys())"
      ],
      "metadata": {
        "colab": {
          "base_uri": "https://localhost:8080/"
        },
        "id": "O4-8SeyMxAp_",
        "outputId": "a7547068-7f83-4748-9434-5c1412711488"
      },
      "execution_count": null,
      "outputs": [
        {
          "output_type": "stream",
          "name": "stdout",
          "text": [
            "False\n"
          ]
        }
      ]
    },
    {
      "cell_type": "code",
      "source": [
        "check = False\n",
        "\n",
        "key_to_check = \"Hometown\"\n",
        "\n",
        "if key_to_check in dics1.keys():\n",
        "  check = True\n",
        "\n",
        "print(check)"
      ],
      "metadata": {
        "colab": {
          "base_uri": "https://localhost:8080/"
        },
        "id": "ECUQhp_vzS3a",
        "outputId": "9f883567-47d6-4915-8d9a-d31e9324c108"
      },
      "execution_count": null,
      "outputs": [
        {
          "output_type": "stream",
          "name": "stdout",
          "text": [
            "False\n"
          ]
        }
      ]
    },
    {
      "cell_type": "markdown",
      "source": [
        "Write a Python program to get the maximum and minimum value in a dictionary."
      ],
      "metadata": {
        "id": "BaCiOKuZ0DvP"
      }
    },
    {
      "cell_type": "code",
      "source": [
        "num_dics = {\n",
        "    'num1': 1,\n",
        "    'num2': 2,\n",
        "    'num3': 3,\n",
        "    'num4': 4\n",
        "}\n",
        "\n",
        "print(f\"{max(num_dics.values())}\")\n",
        "print(f\"{min(num_dics.values())}\")"
      ],
      "metadata": {
        "colab": {
          "base_uri": "https://localhost:8080/"
        },
        "id": "r4sJJEkYz_Q3",
        "outputId": "7e91e300-5b06-4508-94a9-dbd8d176505e"
      },
      "execution_count": null,
      "outputs": [
        {
          "output_type": "stream",
          "name": "stdout",
          "text": [
            "4\n",
            "1\n"
          ]
        }
      ]
    },
    {
      "cell_type": "code",
      "source": [
        "max=max(num_dics.values())\n",
        "min=min(num_dics.values())\n",
        "\n",
        "print(f\"{max}\")\n",
        "print(f\"{min}\")"
      ],
      "metadata": {
        "colab": {
          "base_uri": "https://localhost:8080/"
        },
        "id": "Wvb6xrxu1B7B",
        "outputId": "1ee3fe46-3eec-414c-cd2b-b4b7ec160d6c"
      },
      "execution_count": null,
      "outputs": [
        {
          "output_type": "stream",
          "name": "stdout",
          "text": [
            "4\n",
            "1\n"
          ]
        }
      ]
    },
    {
      "cell_type": "markdown",
      "source": [
        "##Create a dictionary by interchanging the key and value of another dictionary."
      ],
      "metadata": {
        "id": "0foICeeHqF3C"
      }
    },
    {
      "cell_type": "code",
      "source": [
        "players = {\n",
        "    \"A\":3,\n",
        "    \"B\" :7,\n",
        "    \"C\":11,\n",
        "}\n"
      ],
      "metadata": {
        "id": "kz8aB6yUqL3C"
      },
      "execution_count": null,
      "outputs": []
    },
    {
      "cell_type": "code",
      "source": [
        "d = {}\n",
        "for k,v in players.items():\n",
        "  d[v]=k\n",
        "print(d)"
      ],
      "metadata": {
        "colab": {
          "base_uri": "https://localhost:8080/"
        },
        "id": "PY7Rp-gorO2J",
        "outputId": "4b21bdd1-3435-409b-d6b3-079892fd1f79"
      },
      "execution_count": null,
      "outputs": [
        {
          "output_type": "stream",
          "name": "stdout",
          "text": [
            "{3: 'A', 7: 'B', 11: 'C'}\n"
          ]
        }
      ]
    },
    {
      "cell_type": "markdown",
      "source": [
        "# Functions\n"
      ],
      "metadata": {
        "id": "UxhYCtImslsZ"
      }
    },
    {
      "cell_type": "markdown",
      "source": [
        "## Defining and calling functions"
      ],
      "metadata": {
        "id": "HTDkrz86stlh"
      }
    },
    {
      "cell_type": "code",
      "source": [
        "def greet():\n",
        "  print(\"Hello world\");\n",
        "\n",
        "greet()"
      ],
      "metadata": {
        "colab": {
          "base_uri": "https://localhost:8080/"
        },
        "id": "KhqQclEds0D5",
        "outputId": "9d7c9249-a812-49ea-cab9-f023a3671986"
      },
      "execution_count": null,
      "outputs": [
        {
          "output_type": "stream",
          "name": "stdout",
          "text": [
            "Hello world\n"
          ]
        }
      ]
    },
    {
      "cell_type": "code",
      "source": [
        "def greet_name(name):\n",
        "  print(f\"Hello {name}\")\n",
        "\n",
        "greet_name(\"pranta\")"
      ],
      "metadata": {
        "colab": {
          "base_uri": "https://localhost:8080/"
        },
        "id": "MOt3FcGrto_R",
        "outputId": "02e9d015-51a2-4bf6-895b-37f809669d80"
      },
      "execution_count": null,
      "outputs": [
        {
          "output_type": "stream",
          "name": "stdout",
          "text": [
            "Hello pranta\n"
          ]
        }
      ]
    },
    {
      "cell_type": "code",
      "source": [
        "def greet_name(First_name, Last_name):\n",
        "  print(f\"Hello {First_name} {Last_name}\")\n",
        "\n",
        "greet_name(\"pranta\", \"Das\")"
      ],
      "metadata": {
        "colab": {
          "base_uri": "https://localhost:8080/"
        },
        "id": "AY5_RPKvuhUR",
        "outputId": "10190fc1-c51a-4d88-c3d3-ee67d81d9430"
      },
      "execution_count": null,
      "outputs": [
        {
          "output_type": "stream",
          "name": "stdout",
          "text": [
            "Hello pranta Das\n"
          ]
        }
      ]
    },
    {
      "cell_type": "code",
      "source": [
        "def greet_name(First_name, miiddle_name ,Last_name):\n",
        "  print(f\"Hello {First_name} {miiddle_name} {Last_name}\")\n",
        "\n",
        "greet_name(\"pranta\", \" \" ,\"Das\")\n",
        "greet_name(Last_name=\"pranta\", miiddle_name=\" \" , First_name=\"Das\")"
      ],
      "metadata": {
        "colab": {
          "base_uri": "https://localhost:8080/"
        },
        "id": "lUD0XJZMu9Dx",
        "outputId": "97ea16a6-1ca7-404a-9d38-bf7bb8545895"
      },
      "execution_count": null,
      "outputs": [
        {
          "output_type": "stream",
          "name": "stdout",
          "text": [
            "Hello pranta   Das\n",
            "Hello Das   pranta\n"
          ]
        }
      ]
    },
    {
      "cell_type": "markdown",
      "source": [
        "## Return Values"
      ],
      "metadata": {
        "id": "0sOZO66zv_aI"
      }
    },
    {
      "cell_type": "code",
      "source": [
        "def square(num):\n",
        "  return num*num;\n",
        "\n",
        "print(square(5));"
      ],
      "metadata": {
        "colab": {
          "base_uri": "https://localhost:8080/"
        },
        "id": "E2Axza3mvRdI",
        "outputId": "09ee7d40-0126-4484-a94e-58e28dc0dca9"
      },
      "execution_count": null,
      "outputs": [
        {
          "output_type": "stream",
          "name": "stdout",
          "text": [
            "25\n"
          ]
        }
      ]
    },
    {
      "cell_type": "code",
      "source": [
        "def square_root(num):\n",
        "  return num*num, num**0.5\n",
        "\n",
        "sq, root = square_root(9)\n",
        "print(f\"square={sq} , root= {root}\")"
      ],
      "metadata": {
        "colab": {
          "base_uri": "https://localhost:8080/"
        },
        "id": "HiD6dNZMwRKY",
        "outputId": "069cb850-aa57-418c-c09e-b354839e36f1"
      },
      "execution_count": null,
      "outputs": [
        {
          "output_type": "stream",
          "name": "stdout",
          "text": [
            "square=81 , root= 3.0\n"
          ]
        }
      ]
    },
    {
      "cell_type": "code",
      "source": [
        "result = square_root(9)\n",
        "print(f\"result={result} \")"
      ],
      "metadata": {
        "colab": {
          "base_uri": "https://localhost:8080/"
        },
        "id": "6rOA_ykYxrXw",
        "outputId": "32db35b6-8b02-4af2-d6d1-f954da586453"
      },
      "execution_count": null,
      "outputs": [
        {
          "output_type": "stream",
          "name": "stdout",
          "text": [
            "result=(81, 3.0) \n"
          ]
        }
      ]
    },
    {
      "cell_type": "markdown",
      "source": [
        "*args and **kwargs (Variable-Length Arguments)"
      ],
      "metadata": {
        "id": "EYWtHt5ny-pf"
      }
    },
    {
      "cell_type": "code",
      "source": [
        "def func(*args, **kwargs):\n",
        "    print(\"Args:\", args)\n",
        "    print(\"Kwargs: \", kwargs)\n",
        "\n",
        "func(1,2,3, name = \"Alice\", age=25)\n",
        "\n"
      ],
      "metadata": {
        "colab": {
          "base_uri": "https://localhost:8080/"
        },
        "id": "LPn8hFLcx-WY",
        "outputId": "75962606-fac5-41ef-8198-4816feeae69c"
      },
      "execution_count": null,
      "outputs": [
        {
          "output_type": "stream",
          "name": "stdout",
          "text": [
            "Args: (1, 2, 3)\n",
            "Kwargs:  {'name': 'Alice', 'age': 25}\n"
          ]
        }
      ]
    },
    {
      "cell_type": "code",
      "source": [
        "func(1,2,3, name = \"Alice\", age=25, dob='12/03/23')"
      ],
      "metadata": {
        "colab": {
          "base_uri": "https://localhost:8080/"
        },
        "id": "SJfJi--hzyeh",
        "outputId": "a3e1de5a-37f9-4867-9779-0976b4823b3c"
      },
      "execution_count": null,
      "outputs": [
        {
          "output_type": "stream",
          "name": "stdout",
          "text": [
            "Args: (1, 2, 3)\n",
            "Kwargs:  {'name': 'Alice', 'age': 25, 'dob': '12/03/23'}\n"
          ]
        }
      ]
    },
    {
      "cell_type": "code",
      "source": [
        "def func(*args, **kwargs):\n",
        "    print(\"Args[0]:\", args[0])\n",
        "    print(\"Args[1]:\", args[1])\n",
        "    print(\"Args[2]:\", args[2])\n",
        "    print(\"Kwargs: \", kwargs)\n",
        "\n",
        "func(1,2,3, name = \"Alice\", age=25)\n"
      ],
      "metadata": {
        "colab": {
          "base_uri": "https://localhost:8080/"
        },
        "id": "jBkFbMdyz9pH",
        "outputId": "6ff5a0ad-5a8b-4b82-da58-fb236bebdfe4"
      },
      "execution_count": null,
      "outputs": [
        {
          "output_type": "stream",
          "name": "stdout",
          "text": [
            "Args[0]: 1\n",
            "Args[1]: 2\n",
            "Args[2]: 3\n",
            "Kwargs:  {'name': 'Alice', 'age': 25}\n"
          ]
        }
      ]
    },
    {
      "cell_type": "markdown",
      "source": [
        "Keyword-Only Arguments"
      ],
      "metadata": {
        "id": "pPlDbRbg1BoI"
      }
    },
    {
      "cell_type": "code",
      "source": [
        "def fun(*, fname, lname):\n",
        "   print(f\"Welcome {fname} {lname}\")\n",
        "\n",
        "fun(fname=\"Pranta\", lname=\"Das\")"
      ],
      "metadata": {
        "colab": {
          "base_uri": "https://localhost:8080/"
        },
        "id": "ZVSY0wT91H0v",
        "outputId": "bbc7f2c3-8d67-4abd-a088-3caeaf440fbe"
      },
      "execution_count": null,
      "outputs": [
        {
          "output_type": "stream",
          "name": "stdout",
          "text": [
            "Welcome Pranta Das\n"
          ]
        }
      ]
    },
    {
      "cell_type": "code",
      "source": [
        "def fun_new( fname, *,lname):\n",
        "   print(f\"Welcome {fname} {lname}\")\n",
        "\n",
        "fun_new(\"Pranta\", lname=\"Das\")"
      ],
      "metadata": {
        "colab": {
          "base_uri": "https://localhost:8080/"
        },
        "id": "UWWM9SwI16sf",
        "outputId": "2328e29e-d612-4c1d-8f40-3a5fd8ba626b"
      },
      "execution_count": null,
      "outputs": [
        {
          "output_type": "stream",
          "name": "stdout",
          "text": [
            "Welcome Pranta Das\n"
          ]
        }
      ]
    },
    {
      "cell_type": "markdown",
      "source": [
        "Functions as First-Class Citizens"
      ],
      "metadata": {
        "id": "O7lMhSdf2c6Z"
      }
    },
    {
      "cell_type": "code",
      "source": [
        "def shout(text):\n",
        "   return text.upper()\n",
        "\n",
        "def whisper(text):\n",
        "   return text.lower()\n",
        "\n",
        "def speak(func):\n",
        "   return func(\"hello\")\n",
        "\n",
        "print(speak(shout))"
      ],
      "metadata": {
        "colab": {
          "base_uri": "https://localhost:8080/"
        },
        "id": "ldLA-yUE2O6_",
        "outputId": "f8b16949-a9f1-46b5-fd15-fb660f9bacd7"
      },
      "execution_count": null,
      "outputs": [
        {
          "output_type": "stream",
          "name": "stdout",
          "text": [
            "HELLO\n"
          ]
        }
      ]
    },
    {
      "cell_type": "markdown",
      "source": [
        "Lambda Functions"
      ],
      "metadata": {
        "id": "ESunZrhZ3J6P"
      }
    },
    {
      "cell_type": "code",
      "source": [
        "square = lambda x: x * x\n",
        "print(square(5))"
      ],
      "metadata": {
        "colab": {
          "base_uri": "https://localhost:8080/"
        },
        "id": "2u6e9gNG28fO",
        "outputId": "23b3f69f-cf0c-4754-e425-986972f5e9e8"
      },
      "execution_count": null,
      "outputs": [
        {
          "output_type": "stream",
          "name": "stdout",
          "text": [
            "25\n"
          ]
        }
      ]
    },
    {
      "cell_type": "markdown",
      "source": [
        "Docstrings and Introspection\n"
      ],
      "metadata": {
        "id": "ANNsty0p37NH"
      }
    },
    {
      "cell_type": "code",
      "source": [
        "def add(a: int, b: int) -> int:\n",
        "   \"\"\"Add two numbers and return the result.\n",
        "   Parameters:\n",
        "   `a` : `int` takes an integer\n",
        "   `b` : `int` takes an integer\n",
        "\n",
        "   Returns:\n",
        "   return `int` returns an integer\n",
        "   \"\"\"\n",
        "   return a + b\n",
        "\n",
        "print(add.__doc__)\n",
        "print(add.__annotations__)"
      ],
      "metadata": {
        "colab": {
          "base_uri": "https://localhost:8080/"
        },
        "id": "dchfFY833jDH",
        "outputId": "fbffd45f-cd70-4c02-e557-abf82309e2ca"
      },
      "execution_count": null,
      "outputs": [
        {
          "output_type": "stream",
          "name": "stdout",
          "text": [
            "Add two numbers and return the result.\n",
            "   Parameters:\n",
            "   `a` : `int` takes an integer \n",
            "   `b` : `int` takes an integer \n",
            "\n",
            "   Returns:\n",
            "   return `int` returns an integer\n",
            "   \n",
            "{'a': <class 'int'>, 'b': <class 'int'>, 'return': <class 'int'>}\n"
          ]
        }
      ]
    },
    {
      "cell_type": "code",
      "source": [],
      "metadata": {
        "id": "-32QDlf_5cxG"
      },
      "execution_count": null,
      "outputs": []
    }
  ]
}